{
 "cells": [
  {
   "cell_type": "raw",
   "id": "276c325c",
   "metadata": {},
   "source": [
    "1. In the below elements which of them are values or an expression? eg:- values can be\n",
    "integer or string and expressions will be mathematical operators.\n",
    "\n",
    "*           -expression\n",
    "'hello'     -value\n",
    "-87.8       -value\n",
    "-           -expression\n",
    "/           -expression\n",
    "+           -expression\n",
    "6           -value\n"
   ]
  },
  {
   "cell_type": "code",
   "execution_count": null,
   "id": "e5481df0",
   "metadata": {},
   "outputs": [],
   "source": [
    "2. What_is the difference between string_and variable?\n",
    "\n",
    "Ans- A string_is a lateral text string i.e\"hello\"\n",
    "-A variable_is something that stored data i.e x,y,z.\n",
    "\n",
    "-String are stored_as individual character.\n",
    "-but variable store data like a=\"Naveen\",22,22.2\n",
    "it stored_all_type of datas\n",
    "\n",
    "-String_is a sequence of characters.for example-\"hello\" it contain sequence like \"h\",\"e\",\"l\",\"l\",\"o\"\n",
    "-Variable have three types.\n",
    "1.independent variable\n",
    "2.dependent variable\n",
    "3.controlled variable\n",
    "\n",
    "-In string always we can use single quote,double quote,_or triple quote it_is ok .\n",
    "-Variable names should start_with alphabets.its_not contain special characters like !,@,#,$,%\n"
   ]
  },
  {
   "cell_type": "markdown",
   "id": "3a9c3b74",
   "metadata": {},
   "source": [
    "3.Describe three different data types?\n",
    "\n",
    "Ans-#Numeric Data Type.\n",
    "In python numeric data type represent the data which has numeric values.\n",
    "Numeric values can be \n",
    "-integer,\n",
    "-float,\n",
    "-or complex number\n",
    "these value are defined as int,float,and complex class.\n",
    "\n",
    ".#Sequence Data Type.\n",
    "sequence is a order collection of similar or different data types.Sequence allow to store different value or stored multiple values.\n",
    "There are several sequence type.\n",
    "-String\n",
    "-list\n",
    "-touple\n",
    "\n",
    ".#Boolean data type\n",
    "This data type with two built in value,these are true or false.\n",
    "in this type of data type true means right situation or false means wrong situation\n",
    "-Boolean data type is denoted by bool.\n",
    "Exaple of bool- \n",
    "                1.2+2=4 its a true situation\n",
    "                2.2+2=7 its a false\n",
    "                \n"
   ]
  },
  {
   "cell_type": "code",
   "execution_count": null,
   "id": "d849b6e4",
   "metadata": {},
   "outputs": [],
   "source": [
    "4. What_is an expression made up of? What do all expressions do?\n",
    "\n",
    "Ans=Expression Made up of it_is a combination of operator_and operands that_is interpreated to produce some other value.\n",
    "the expression produce some values_or result after being interpreted by the python interpreter.\n"
   ]
  },
  {
   "cell_type": "code",
   "execution_count": null,
   "id": "548e7b71",
   "metadata": {},
   "outputs": [],
   "source": [
    "5. This assignment statements, like spam = 10. What is the difference between an\n",
    "expression and a statement?\n",
    "\n",
    "Ans= In this assignment statement-\n",
    "expression evaluted to a single value but statement does_not evaluted any value\n",
    "expression produce some result after interpreted by python interpreter\n",
    "but statement_is used_for creating variable_or_for displaying values "
   ]
  },
  {
   "cell_type": "code",
   "execution_count": 4,
   "id": "7e680f10",
   "metadata": {},
   "outputs": [
    {
     "name": "stdout",
     "output_type": "stream",
     "text": [
      "Object `contain` not found.\n"
     ]
    },
    {
     "data": {
      "text/plain": [
       "23"
      ]
     },
     "execution_count": 4,
     "metadata": {},
     "output_type": "execute_result"
    }
   ],
   "source": [
    "6. After running the following code, what does the variable bacon contain?\n",
    "bacon = 22\n",
    "bacon + 1\n",
    "\n",
    "Ans- 23\n"
   ]
  },
  {
   "cell_type": "code",
   "execution_count": 6,
   "id": "3179af59",
   "metadata": {
    "scrolled": true
   },
   "outputs": [
    {
     "name": "stdout",
     "output_type": "stream",
     "text": [
      "Object `be` not found.\n"
     ]
    },
    {
     "data": {
      "text/plain": [
       "'spamspamspam'"
      ]
     },
     "execution_count": 6,
     "metadata": {},
     "output_type": "execute_result"
    }
   ],
   "source": [
    "7. What should the values of the following two terms be?\n",
    "'spam'+'spamspam'\n",
    "'spam'*3\n",
    "\n",
    "'spam'+'spam'='spamspamspam'\n",
    "'spam'*3='spamspamspam'\n",
    "\n"
   ]
  },
  {
   "cell_type": "code",
   "execution_count": 7,
   "id": "d03649b3",
   "metadata": {},
   "outputs": [
    {
     "data": {
      "text/plain": [
       "'spamspamspam'"
      ]
     },
     "execution_count": 7,
     "metadata": {},
     "output_type": "execute_result"
    }
   ],
   "source": [
    "8. Why is eggs a valid variable name while 100 is invalid?\n",
    "\n",
    "Ans="
   ]
  },
  {
   "cell_type": "code",
   "execution_count": null,
   "id": "77d9f3d1",
   "metadata": {},
   "outputs": [],
   "source": [
    "9. What three functions can be used to get the integer, floating-point number, or string\n",
    "version of a value?"
   ]
  },
  {
   "cell_type": "code",
   "execution_count": null,
   "id": "02433ccb",
   "metadata": {},
   "outputs": [],
   "source": [
    "10. Why does this expression cause an error? How can you fix it?\n",
    "'i have eaten'+99+''burritos'\n",
    "Ans= The question have error becouse in + operator all have same data type but there 99 is integer so if we fix it we write\n",
    "'i have eaten'+'99'+'burritos'\n"
   ]
  },
  {
   "cell_type": "code",
   "execution_count": 8,
   "id": "7481be0a",
   "metadata": {},
   "outputs": [
    {
     "ename": "SyntaxError",
     "evalue": "invalid syntax (2915095982.py, line 2)",
     "output_type": "error",
     "traceback": [
      "\u001b[1;36m  File \u001b[1;32m\"C:\\Users\\naveen dubey\\AppData\\Local\\Temp\\ipykernel_5156\\2915095982.py\"\u001b[1;36m, line \u001b[1;32m2\u001b[0m\n\u001b[1;33m    'i have eaten'+99+''burritos'\u001b[0m\n\u001b[1;37m                        ^\u001b[0m\n\u001b[1;31mSyntaxError\u001b[0m\u001b[1;31m:\u001b[0m invalid syntax\n"
     ]
    }
   ],
   "source": []
  },
  {
   "cell_type": "code",
   "execution_count": 9,
   "id": "a7a13e42",
   "metadata": {},
   "outputs": [
    {
     "data": {
      "text/plain": [
       "'i have eaten99burritos'"
      ]
     },
     "execution_count": 9,
     "metadata": {},
     "output_type": "execute_result"
    }
   ],
   "source": [
    "'i have eaten'+'99'+'burritos'"
   ]
  }
 ],
 "metadata": {
  "kernelspec": {
   "display_name": "Python 3 (ipykernel)",
   "language": "python",
   "name": "python3"
  },
  "language_info": {
   "codemirror_mode": {
    "name": "ipython",
    "version": 3
   },
   "file_extension": ".py",
   "mimetype": "text/x-python",
   "name": "python",
   "nbconvert_exporter": "python",
   "pygments_lexer": "ipython3",
   "version": "3.9.13"
  }
 },
 "nbformat": 4,
 "nbformat_minor": 5
}
